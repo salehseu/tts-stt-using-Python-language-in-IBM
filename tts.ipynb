{
 "cells": [
  {
   "cell_type": "code",
   "execution_count": 10,
   "id": "0deeb3fb",
   "metadata": {},
   "outputs": [
    {
     "name": "stdout",
     "output_type": "stream",
     "text": [
      "Requirement already satisfied: ibm_watson in c:\\users\\user\\anaconda3\\lib\\site-packages (5.2.2)\n",
      "Requirement already satisfied: python-dateutil>=2.5.3 in c:\\users\\user\\anaconda3\\lib\\site-packages (from ibm_watson) (2.8.1)\n",
      "Requirement already satisfied: websocket-client==1.1.0 in c:\\users\\user\\anaconda3\\lib\\site-packages (from ibm_watson) (1.1.0)\n",
      "Requirement already satisfied: ibm-cloud-sdk-core==3.*,>=3.3.6 in c:\\users\\user\\anaconda3\\lib\\site-packages (from ibm_watson) (3.10.1)\n",
      "Requirement already satisfied: requests<3.0,>=2.0 in c:\\users\\user\\anaconda3\\lib\\site-packages (from ibm_watson) (2.25.1)\n",
      "Requirement already satisfied: PyJWT<3.0.0,>=2.0.1 in c:\\users\\user\\anaconda3\\lib\\site-packages (from ibm-cloud-sdk-core==3.*,>=3.3.6->ibm_watson) (2.1.0)\n",
      "Requirement already satisfied: six>=1.5 in c:\\users\\user\\anaconda3\\lib\\site-packages (from python-dateutil>=2.5.3->ibm_watson) (1.15.0)\n",
      "Requirement already satisfied: urllib3<1.27,>=1.21.1 in c:\\users\\user\\anaconda3\\lib\\site-packages (from requests<3.0,>=2.0->ibm_watson) (1.26.4)\n",
      "Requirement already satisfied: idna<3,>=2.5 in c:\\users\\user\\anaconda3\\lib\\site-packages (from requests<3.0,>=2.0->ibm_watson) (2.10)\n",
      "Requirement already satisfied: chardet<5,>=3.0.2 in c:\\users\\user\\anaconda3\\lib\\site-packages (from requests<3.0,>=2.0->ibm_watson) (4.0.0)\n",
      "Requirement already satisfied: certifi>=2017.4.17 in c:\\users\\user\\anaconda3\\lib\\site-packages (from requests<3.0,>=2.0->ibm_watson) (2020.12.5)\n",
      "Note: you may need to restart the kernel to use updated packages.\n"
     ]
    }
   ],
   "source": [
    "pip install ibm_watson"
   ]
  },
  {
   "cell_type": "code",
   "execution_count": 11,
   "id": "97a8886f",
   "metadata": {},
   "outputs": [
    {
     "name": "stdout",
     "output_type": "stream",
     "text": [
      "Requirement already satisfied: ibm_cloud_sdk_core in c:\\users\\user\\anaconda3\\lib\\site-packages (3.10.1)\n",
      "Requirement already satisfied: PyJWT<3.0.0,>=2.0.1 in c:\\users\\user\\anaconda3\\lib\\site-packages (from ibm_cloud_sdk_core) (2.1.0)\n",
      "Requirement already satisfied: python-dateutil<3.0.0,>=2.5.3 in c:\\users\\user\\anaconda3\\lib\\site-packages (from ibm_cloud_sdk_core) (2.8.1)\n",
      "Requirement already satisfied: requests<3.0,>=2.20 in c:\\users\\user\\anaconda3\\lib\\site-packages (from ibm_cloud_sdk_core) (2.25.1)\n",
      "Requirement already satisfied: six>=1.5 in c:\\users\\user\\anaconda3\\lib\\site-packages (from python-dateutil<3.0.0,>=2.5.3->ibm_cloud_sdk_core) (1.15.0)\n",
      "Requirement already satisfied: chardet<5,>=3.0.2 in c:\\users\\user\\anaconda3\\lib\\site-packages (from requests<3.0,>=2.20->ibm_cloud_sdk_core) (4.0.0)\n",
      "Requirement already satisfied: urllib3<1.27,>=1.21.1 in c:\\users\\user\\anaconda3\\lib\\site-packages (from requests<3.0,>=2.20->ibm_cloud_sdk_core) (1.26.4)\n",
      "Requirement already satisfied: idna<3,>=2.5 in c:\\users\\user\\anaconda3\\lib\\site-packages (from requests<3.0,>=2.20->ibm_cloud_sdk_core) (2.10)\n",
      "Requirement already satisfied: certifi>=2017.4.17 in c:\\users\\user\\anaconda3\\lib\\site-packages (from requests<3.0,>=2.20->ibm_cloud_sdk_core) (2020.12.5)\n",
      "Note: you may need to restart the kernel to use updated packages.\n"
     ]
    }
   ],
   "source": [
    "pip install ibm_cloud_sdk_core"
   ]
  },
  {
   "cell_type": "code",
   "execution_count": 12,
   "id": "93756cfb",
   "metadata": {},
   "outputs": [],
   "source": [
    "from ibm_watson import TextToSpeechV1"
   ]
  },
  {
   "cell_type": "code",
   "execution_count": 13,
   "id": "f6346157",
   "metadata": {},
   "outputs": [],
   "source": [
    "from ibm_cloud_sdk_core.authenticators import IAMAuthenticator"
   ]
  },
  {
   "cell_type": "code",
   "execution_count": 14,
   "id": "58ecd796",
   "metadata": {},
   "outputs": [],
   "source": [
    "api = IAMAuthenticator('MVRp--d9SLRC06Fh8ocHS1ATtCUVCkwneabM9Uu3727c')"
   ]
  },
  {
   "cell_type": "code",
   "execution_count": 15,
   "id": "d89048db",
   "metadata": {},
   "outputs": [],
   "source": [
    "text_2_speech = TextToSpeechV1(authenticator=api)"
   ]
  },
  {
   "cell_type": "code",
   "execution_count": 16,
   "id": "ae2b5196",
   "metadata": {},
   "outputs": [],
   "source": [
    "text_2_speech.set_service_url(\"https://api.us-south.text-to-speech.watson.cloud.ibm.com/instances/60ffdf64-e261-4bc0-ba41-c88cb758b6ad\")"
   ]
  },
  {
   "cell_type": "code",
   "execution_count": 26,
   "id": "ddb72a4f",
   "metadata": {},
   "outputs": [],
   "source": [
    "\n",
    "with open(\"Test.mp3\",\"wb\") as audiofile: \n",
    "    audiofile.write(text_2_speech.synthesize(Text, accept=\"audio/mp3\").get_result().content )\n",
    "    "
   ]
  },
  {
   "cell_type": "code",
   "execution_count": null,
   "id": "73790c96",
   "metadata": {},
   "outputs": [],
   "source": []
  }
 ],
 "metadata": {
  "kernelspec": {
   "display_name": "Python 3",
   "language": "python",
   "name": "python3"
  },
  "language_info": {
   "codemirror_mode": {
    "name": "ipython",
    "version": 3
   },
   "file_extension": ".py",
   "mimetype": "text/x-python",
   "name": "python",
   "nbconvert_exporter": "python",
   "pygments_lexer": "ipython3",
   "version": "3.8.8"
  }
 },
 "nbformat": 4,
 "nbformat_minor": 5
}
